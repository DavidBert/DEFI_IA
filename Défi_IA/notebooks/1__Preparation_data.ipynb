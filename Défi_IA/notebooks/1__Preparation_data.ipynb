{
  "cells": [
    {
      "cell_type": "code",
      "execution_count": 5,
      "metadata": {
        "id": "5MS2t9mJX0Ab"
      },
      "outputs": [],
      "source": [
        "import pandas as pd \n",
        "import os\n",
        "import numpy as np\n",
        "import pipreqs"
      ]
    },
    {
      "cell_type": "code",
      "execution_count": 6,
      "metadata": {},
      "outputs": [
        {
          "name": "stdout",
          "output_type": "stream",
          "text": [
            "1.3.4\n"
          ]
        }
      ],
      "source": [
        "print(pd.__version__)"
      ]
    },
    {
      "cell_type": "code",
      "execution_count": 25,
      "metadata": {},
      "outputs": [
        {
          "name": "stdout",
          "output_type": "stream",
          "text": [
            "Collecting pipreqs\n",
            "  Using cached pipreqs-0.4.11-py2.py3-none-any.whl (32 kB)\n",
            "Collecting yarg\n",
            "  Using cached yarg-0.1.9-py2.py3-none-any.whl (19 kB)\n",
            "Collecting docopt\n",
            "  Using cached docopt-0.6.2-py2.py3-none-any.whl\n",
            "Requirement already satisfied: requests in c:\\users\\alaek\\appdata\\roaming\\python\\python39\\site-packages (from yarg->pipreqs) (2.21.0)\n",
            "Requirement already satisfied: idna<2.9,>=2.5 in c:\\users\\alaek\\appdata\\roaming\\python\\python39\\site-packages (from requests->yarg->pipreqs) (2.8)\n",
            "Requirement already satisfied: chardet<3.1.0,>=3.0.2 in c:\\users\\alaek\\appdata\\roaming\\python\\python39\\site-packages (from requests->yarg->pipreqs) (3.0.4)\n",
            "Requirement already satisfied: urllib3<1.25,>=1.21.1 in c:\\users\\alaek\\appdata\\roaming\\python\\python39\\site-packages (from requests->yarg->pipreqs) (1.24.3)\n",
            "Requirement already satisfied: certifi>=2017.4.17 in c:\\users\\alaek\\miniconda3\\envs\\meteo_env\\lib\\site-packages (from requests->yarg->pipreqs) (2021.10.8)\n",
            "Installing collected packages: yarg, docopt, pipreqs\n",
            "Successfully installed docopt-0.6.2 pipreqs-0.4.11 yarg-0.1.9\n"
          ]
        }
      ],
      "source": [
        "# !pip install pipreqs"
      ]
    },
    {
      "cell_type": "code",
      "execution_count": 2,
      "metadata": {
        "id": "QSKNpxAdbSJ6"
      },
      "outputs": [
        {
          "name": "stdout",
          "output_type": "stream",
          "text": [
            "Collecting fastparquet\n",
            "  Downloading fastparquet-0.7.2-cp39-cp39-win_amd64.whl (576 kB)\n",
            "Collecting cramjam>=2.3.0\n",
            "  Downloading cramjam-2.5.0-cp39-none-win_amd64.whl (993 kB)\n",
            "Requirement already satisfied: pandas>=1.1.0 in c:\\users\\alaek\\miniconda3\\envs\\meteo_env\\lib\\site-packages (from fastparquet) (1.3.4)\n",
            "Collecting thrift>=0.11.0\n",
            "  Downloading thrift-0.15.0.tar.gz (59 kB)\n",
            "Requirement already satisfied: numpy>=1.18 in c:\\users\\alaek\\miniconda3\\envs\\meteo_env\\lib\\site-packages (from fastparquet) (1.21.2)\n",
            "Collecting fsspec\n",
            "  Downloading fsspec-2022.1.0-py3-none-any.whl (133 kB)\n",
            "Requirement already satisfied: python-dateutil>=2.7.3 in c:\\users\\alaek\\appdata\\roaming\\python\\python39\\site-packages (from pandas>=1.1.0->fastparquet) (2.8.2)\n",
            "Requirement already satisfied: pytz>=2017.3 in c:\\users\\alaek\\miniconda3\\envs\\meteo_env\\lib\\site-packages (from pandas>=1.1.0->fastparquet) (2021.3)\n",
            "Requirement already satisfied: six>=1.5 in c:\\users\\alaek\\miniconda3\\envs\\meteo_env\\lib\\site-packages (from python-dateutil>=2.7.3->pandas>=1.1.0->fastparquet) (1.15.0)\n",
            "Building wheels for collected packages: thrift\n",
            "  Building wheel for thrift (setup.py): started\n",
            "  Building wheel for thrift (setup.py): finished with status 'done'\n",
            "  Created wheel for thrift: filename=thrift-0.15.0-cp39-cp39-win_amd64.whl size=176708 sha256=89cc315a6eb81b594cd2722c6ff2f1335d3cb6c87e43b73b195e30d4b94dc001\n",
            "  Stored in directory: c:\\users\\alaek\\appdata\\local\\pip\\cache\\wheels\\00\\41\\cd\\f65d329f7cc147ce79cc833b11b94f7bea7329df0ad9d81629\n",
            "Successfully built thrift\n",
            "Installing collected packages: thrift, fsspec, cramjam, fastparquet\n",
            "Successfully installed cramjam-2.5.0 fastparquet-0.7.2 fsspec-2022.1.0 thrift-0.15.0\n"
          ]
        }
      ],
      "source": [
        "# !pip install fastparquet"
      ]
    },
    {
      "cell_type": "code",
      "execution_count": 20,
      "metadata": {},
      "outputs": [],
      "source": [
        "path_test = 'C:/Users/alaek/DEFI_IA/france_meteo/Défi_IA/input/Test/X_stations/X_station_test.csv'\n",
        "path_train = 'C:/Users/alaek/DEFI_IA/france_meteo/Défi_IA/input/Train/X_stations/X_station_train.csv'\n",
        "coords_path = 'C:/Users/alaek/DEFI_IA/france_meteo/Défi_IA/input/other/stations_coordinates.csv'\n",
        "output_data = 'C:/Users/alaek/DEFI_IA/france_meteo/Défi_IA/input/output_data'"
      ]
    },
    {
      "cell_type": "code",
      "execution_count": 23,
      "metadata": {
        "colab": {
          "base_uri": "https://localhost:8080/",
          "height": 206
        },
        "id": "l30Vh2uzX_GT",
        "outputId": "6b34e1a2-7624-4e35-e9d2-c837a740d98e"
      },
      "outputs": [
        {
          "data": {
            "text/html": [
              "<div>\n",
              "<style scoped>\n",
              "    .dataframe tbody tr th:only-of-type {\n",
              "        vertical-align: middle;\n",
              "    }\n",
              "\n",
              "    .dataframe tbody tr th {\n",
              "        vertical-align: top;\n",
              "    }\n",
              "\n",
              "    .dataframe thead th {\n",
              "        text-align: right;\n",
              "    }\n",
              "</style>\n",
              "<table border=\"1\" class=\"dataframe\">\n",
              "  <thead>\n",
              "    <tr style=\"text-align: right;\">\n",
              "      <th></th>\n",
              "      <th>number_sta</th>\n",
              "      <th>date</th>\n",
              "      <th>ff</th>\n",
              "      <th>t</th>\n",
              "      <th>td</th>\n",
              "      <th>hu</th>\n",
              "      <th>dd</th>\n",
              "      <th>precip</th>\n",
              "      <th>Id</th>\n",
              "    </tr>\n",
              "  </thead>\n",
              "  <tbody>\n",
              "    <tr>\n",
              "      <th>0</th>\n",
              "      <td>14066001</td>\n",
              "      <td>2016-01-01 00:00:00</td>\n",
              "      <td>3.05</td>\n",
              "      <td>279.28</td>\n",
              "      <td>277.97</td>\n",
              "      <td>91.4</td>\n",
              "      <td>200.0</td>\n",
              "      <td>0.0</td>\n",
              "      <td>14066001_0_0</td>\n",
              "    </tr>\n",
              "    <tr>\n",
              "      <th>1</th>\n",
              "      <td>14066001</td>\n",
              "      <td>2016-01-01 01:00:00</td>\n",
              "      <td>2.57</td>\n",
              "      <td>278.76</td>\n",
              "      <td>277.45</td>\n",
              "      <td>91.4</td>\n",
              "      <td>190.0</td>\n",
              "      <td>0.0</td>\n",
              "      <td>14066001_0_1</td>\n",
              "    </tr>\n",
              "    <tr>\n",
              "      <th>2</th>\n",
              "      <td>14066001</td>\n",
              "      <td>2016-01-01 02:00:00</td>\n",
              "      <td>2.26</td>\n",
              "      <td>278.27</td>\n",
              "      <td>277.02</td>\n",
              "      <td>91.7</td>\n",
              "      <td>181.0</td>\n",
              "      <td>0.0</td>\n",
              "      <td>14066001_0_2</td>\n",
              "    </tr>\n",
              "    <tr>\n",
              "      <th>3</th>\n",
              "      <td>14066001</td>\n",
              "      <td>2016-01-01 03:00:00</td>\n",
              "      <td>2.62</td>\n",
              "      <td>277.98</td>\n",
              "      <td>276.95</td>\n",
              "      <td>93.0</td>\n",
              "      <td>159.0</td>\n",
              "      <td>0.0</td>\n",
              "      <td>14066001_0_3</td>\n",
              "    </tr>\n",
              "    <tr>\n",
              "      <th>4</th>\n",
              "      <td>14066001</td>\n",
              "      <td>2016-01-01 04:00:00</td>\n",
              "      <td>2.99</td>\n",
              "      <td>277.32</td>\n",
              "      <td>276.72</td>\n",
              "      <td>95.9</td>\n",
              "      <td>171.0</td>\n",
              "      <td>0.0</td>\n",
              "      <td>14066001_0_4</td>\n",
              "    </tr>\n",
              "  </tbody>\n",
              "</table>\n",
              "</div>"
            ],
            "text/plain": [
              "   number_sta                 date    ff       t      td    hu     dd  precip  \\\n",
              "0    14066001  2016-01-01 00:00:00  3.05  279.28  277.97  91.4  200.0     0.0   \n",
              "1    14066001  2016-01-01 01:00:00  2.57  278.76  277.45  91.4  190.0     0.0   \n",
              "2    14066001  2016-01-01 02:00:00  2.26  278.27  277.02  91.7  181.0     0.0   \n",
              "3    14066001  2016-01-01 03:00:00  2.62  277.98  276.95  93.0  159.0     0.0   \n",
              "4    14066001  2016-01-01 04:00:00  2.99  277.32  276.72  95.9  171.0     0.0   \n",
              "\n",
              "             Id  \n",
              "0  14066001_0_0  \n",
              "1  14066001_0_1  \n",
              "2  14066001_0_2  \n",
              "3  14066001_0_3  \n",
              "4  14066001_0_4  "
            ]
          },
          "execution_count": 23,
          "metadata": {},
          "output_type": "execute_result"
        }
      ],
      "source": [
        "train = pd.read_csv(path_train)\n",
        "train.head()"
      ]
    },
    {
      "cell_type": "code",
      "execution_count": 5,
      "metadata": {
        "id": "mLu5JTzRYI6O"
      },
      "outputs": [],
      "source": [
        "train.rename(columns={\"ff\":\"wind_speed\",\"t\":\"temp\",\"hu\":\"humidity\",\"dd\":\"wind_direction\",\"td\":\"dew_point_temp\"}, inplace=True)"
      ]
    },
    {
      "cell_type": "code",
      "execution_count": 7,
      "metadata": {
        "colab": {
          "base_uri": "https://localhost:8080/",
          "height": 206
        },
        "id": "6WlMLPHfYWsk",
        "outputId": "570ef818-1207-4afa-e619-ed5700a79201"
      },
      "outputs": [
        {
          "data": {
            "text/html": [
              "<div>\n",
              "<style scoped>\n",
              "    .dataframe tbody tr th:only-of-type {\n",
              "        vertical-align: middle;\n",
              "    }\n",
              "\n",
              "    .dataframe tbody tr th {\n",
              "        vertical-align: top;\n",
              "    }\n",
              "\n",
              "    .dataframe thead th {\n",
              "        text-align: right;\n",
              "    }\n",
              "</style>\n",
              "<table border=\"1\" class=\"dataframe\">\n",
              "  <thead>\n",
              "    <tr style=\"text-align: right;\">\n",
              "      <th></th>\n",
              "      <th>number_sta</th>\n",
              "      <th>lat</th>\n",
              "      <th>lon</th>\n",
              "      <th>height_sta</th>\n",
              "    </tr>\n",
              "  </thead>\n",
              "  <tbody>\n",
              "    <tr>\n",
              "      <th>0</th>\n",
              "      <td>86118001</td>\n",
              "      <td>46.477</td>\n",
              "      <td>0.985</td>\n",
              "      <td>120.0</td>\n",
              "    </tr>\n",
              "    <tr>\n",
              "      <th>1</th>\n",
              "      <td>86149001</td>\n",
              "      <td>46.917</td>\n",
              "      <td>0.025</td>\n",
              "      <td>60.0</td>\n",
              "    </tr>\n",
              "    <tr>\n",
              "      <th>2</th>\n",
              "      <td>56081003</td>\n",
              "      <td>48.050</td>\n",
              "      <td>-3.660</td>\n",
              "      <td>165.0</td>\n",
              "    </tr>\n",
              "    <tr>\n",
              "      <th>3</th>\n",
              "      <td>53215001</td>\n",
              "      <td>47.790</td>\n",
              "      <td>-0.710</td>\n",
              "      <td>63.0</td>\n",
              "    </tr>\n",
              "    <tr>\n",
              "      <th>4</th>\n",
              "      <td>22135001</td>\n",
              "      <td>48.550</td>\n",
              "      <td>-3.380</td>\n",
              "      <td>148.0</td>\n",
              "    </tr>\n",
              "  </tbody>\n",
              "</table>\n",
              "</div>"
            ],
            "text/plain": [
              "   number_sta     lat    lon  height_sta\n",
              "0    86118001  46.477  0.985       120.0\n",
              "1    86149001  46.917  0.025        60.0\n",
              "2    56081003  48.050 -3.660       165.0\n",
              "3    53215001  47.790 -0.710        63.0\n",
              "4    22135001  48.550 -3.380       148.0"
            ]
          },
          "execution_count": 7,
          "metadata": {},
          "output_type": "execute_result"
        }
      ],
      "source": [
        "## Reading the 325 stations accross the NW of France\n",
        "coords = pd.read_csv(coords_path)\n",
        "coords.head()"
      ]
    },
    {
      "cell_type": "code",
      "execution_count": 8,
      "metadata": {
        "colab": {
          "base_uri": "https://localhost:8080/",
          "height": 206
        },
        "id": "ePqrC20CY5J9",
        "outputId": "a9caa3a8-6c54-4228-e3ac-835ed65af5f3"
      },
      "outputs": [
        {
          "data": {
            "text/html": [
              "<div>\n",
              "<style scoped>\n",
              "    .dataframe tbody tr th:only-of-type {\n",
              "        vertical-align: middle;\n",
              "    }\n",
              "\n",
              "    .dataframe tbody tr th {\n",
              "        vertical-align: top;\n",
              "    }\n",
              "\n",
              "    .dataframe thead th {\n",
              "        text-align: right;\n",
              "    }\n",
              "</style>\n",
              "<table border=\"1\" class=\"dataframe\">\n",
              "  <thead>\n",
              "    <tr style=\"text-align: right;\">\n",
              "      <th></th>\n",
              "      <th>number_sta</th>\n",
              "      <th>date</th>\n",
              "      <th>wind_speed</th>\n",
              "      <th>temp</th>\n",
              "      <th>dew_point_temp</th>\n",
              "      <th>humidity</th>\n",
              "      <th>wind_direction</th>\n",
              "      <th>precip</th>\n",
              "      <th>Id</th>\n",
              "      <th>lat</th>\n",
              "      <th>lon</th>\n",
              "      <th>height_sta</th>\n",
              "    </tr>\n",
              "  </thead>\n",
              "  <tbody>\n",
              "    <tr>\n",
              "      <th>0</th>\n",
              "      <td>14066001</td>\n",
              "      <td>2016-01-01 00:00:00</td>\n",
              "      <td>3.05</td>\n",
              "      <td>279.28</td>\n",
              "      <td>277.97</td>\n",
              "      <td>91.4</td>\n",
              "      <td>200.0</td>\n",
              "      <td>0.0</td>\n",
              "      <td>14066001_0_0</td>\n",
              "      <td>49.334</td>\n",
              "      <td>-0.431</td>\n",
              "      <td>2.0</td>\n",
              "    </tr>\n",
              "    <tr>\n",
              "      <th>1</th>\n",
              "      <td>14066001</td>\n",
              "      <td>2016-01-01 01:00:00</td>\n",
              "      <td>2.57</td>\n",
              "      <td>278.76</td>\n",
              "      <td>277.45</td>\n",
              "      <td>91.4</td>\n",
              "      <td>190.0</td>\n",
              "      <td>0.0</td>\n",
              "      <td>14066001_0_1</td>\n",
              "      <td>49.334</td>\n",
              "      <td>-0.431</td>\n",
              "      <td>2.0</td>\n",
              "    </tr>\n",
              "    <tr>\n",
              "      <th>2</th>\n",
              "      <td>14066001</td>\n",
              "      <td>2016-01-01 02:00:00</td>\n",
              "      <td>2.26</td>\n",
              "      <td>278.27</td>\n",
              "      <td>277.02</td>\n",
              "      <td>91.7</td>\n",
              "      <td>181.0</td>\n",
              "      <td>0.0</td>\n",
              "      <td>14066001_0_2</td>\n",
              "      <td>49.334</td>\n",
              "      <td>-0.431</td>\n",
              "      <td>2.0</td>\n",
              "    </tr>\n",
              "    <tr>\n",
              "      <th>3</th>\n",
              "      <td>14066001</td>\n",
              "      <td>2016-01-01 03:00:00</td>\n",
              "      <td>2.62</td>\n",
              "      <td>277.98</td>\n",
              "      <td>276.95</td>\n",
              "      <td>93.0</td>\n",
              "      <td>159.0</td>\n",
              "      <td>0.0</td>\n",
              "      <td>14066001_0_3</td>\n",
              "      <td>49.334</td>\n",
              "      <td>-0.431</td>\n",
              "      <td>2.0</td>\n",
              "    </tr>\n",
              "    <tr>\n",
              "      <th>4</th>\n",
              "      <td>14066001</td>\n",
              "      <td>2016-01-01 04:00:00</td>\n",
              "      <td>2.99</td>\n",
              "      <td>277.32</td>\n",
              "      <td>276.72</td>\n",
              "      <td>95.9</td>\n",
              "      <td>171.0</td>\n",
              "      <td>0.0</td>\n",
              "      <td>14066001_0_4</td>\n",
              "      <td>49.334</td>\n",
              "      <td>-0.431</td>\n",
              "      <td>2.0</td>\n",
              "    </tr>\n",
              "  </tbody>\n",
              "</table>\n",
              "</div>"
            ],
            "text/plain": [
              "   number_sta                 date  wind_speed    temp  dew_point_temp  \\\n",
              "0    14066001  2016-01-01 00:00:00        3.05  279.28          277.97   \n",
              "1    14066001  2016-01-01 01:00:00        2.57  278.76          277.45   \n",
              "2    14066001  2016-01-01 02:00:00        2.26  278.27          277.02   \n",
              "3    14066001  2016-01-01 03:00:00        2.62  277.98          276.95   \n",
              "4    14066001  2016-01-01 04:00:00        2.99  277.32          276.72   \n",
              "\n",
              "   humidity  wind_direction  precip            Id     lat    lon  height_sta  \n",
              "0      91.4           200.0     0.0  14066001_0_0  49.334 -0.431         2.0  \n",
              "1      91.4           190.0     0.0  14066001_0_1  49.334 -0.431         2.0  \n",
              "2      91.7           181.0     0.0  14066001_0_2  49.334 -0.431         2.0  \n",
              "3      93.0           159.0     0.0  14066001_0_3  49.334 -0.431         2.0  \n",
              "4      95.9           171.0     0.0  14066001_0_4  49.334 -0.431         2.0  "
            ]
          },
          "execution_count": 8,
          "metadata": {},
          "output_type": "execute_result"
        }
      ],
      "source": [
        "train = train.merge(coords, on=['number_sta'], how='left')\n",
        "train.head()"
      ]
    },
    {
      "cell_type": "code",
      "execution_count": 9,
      "metadata": {
        "colab": {
          "base_uri": "https://localhost:8080/"
        },
        "id": "oE7fSIpxZHWc",
        "outputId": "62217a68-eff1-4c38-c8c0-0a94bea42ca9"
      },
      "outputs": [
        {
          "data": {
            "text/plain": [
              "number_sta          int64\n",
              "date               object\n",
              "wind_speed        float64\n",
              "temp              float64\n",
              "dew_point_temp    float64\n",
              "humidity          float64\n",
              "wind_direction    float64\n",
              "precip            float64\n",
              "Id                 object\n",
              "lat               float64\n",
              "lon               float64\n",
              "height_sta        float64\n",
              "dtype: object"
            ]
          },
          "execution_count": 9,
          "metadata": {},
          "output_type": "execute_result"
        }
      ],
      "source": [
        "train.dtypes"
      ]
    },
    {
      "cell_type": "code",
      "execution_count": 10,
      "metadata": {
        "id": "WoR6rkSaZgZC"
      },
      "outputs": [],
      "source": [
        "train.height_sta = train.height_sta.astype('int16')"
      ]
    },
    {
      "cell_type": "code",
      "execution_count": 11,
      "metadata": {
        "colab": {
          "base_uri": "https://localhost:8080/",
          "height": 206
        },
        "id": "l79SLce-Zse3",
        "outputId": "f67cd599-3a06-4557-fca6-6b292e481ee7"
      },
      "outputs": [
        {
          "data": {
            "text/html": [
              "<div>\n",
              "<style scoped>\n",
              "    .dataframe tbody tr th:only-of-type {\n",
              "        vertical-align: middle;\n",
              "    }\n",
              "\n",
              "    .dataframe tbody tr th {\n",
              "        vertical-align: top;\n",
              "    }\n",
              "\n",
              "    .dataframe thead th {\n",
              "        text-align: right;\n",
              "    }\n",
              "</style>\n",
              "<table border=\"1\" class=\"dataframe\">\n",
              "  <thead>\n",
              "    <tr style=\"text-align: right;\">\n",
              "      <th></th>\n",
              "      <th>dd</th>\n",
              "      <th>hu</th>\n",
              "      <th>td</th>\n",
              "      <th>t</th>\n",
              "      <th>ff</th>\n",
              "      <th>precip</th>\n",
              "      <th>month</th>\n",
              "      <th>Id</th>\n",
              "    </tr>\n",
              "  </thead>\n",
              "  <tbody>\n",
              "    <tr>\n",
              "      <th>0</th>\n",
              "      <td>NaN</td>\n",
              "      <td>NaN</td>\n",
              "      <td>NaN</td>\n",
              "      <td>278.35</td>\n",
              "      <td>NaN</td>\n",
              "      <td>NaN</td>\n",
              "      <td>12</td>\n",
              "      <td>14047002_277_4</td>\n",
              "    </tr>\n",
              "    <tr>\n",
              "      <th>1</th>\n",
              "      <td>NaN</td>\n",
              "      <td>NaN</td>\n",
              "      <td>NaN</td>\n",
              "      <td>278.40</td>\n",
              "      <td>NaN</td>\n",
              "      <td>0.0</td>\n",
              "      <td>12</td>\n",
              "      <td>14047002_277_5</td>\n",
              "    </tr>\n",
              "    <tr>\n",
              "      <th>2</th>\n",
              "      <td>NaN</td>\n",
              "      <td>NaN</td>\n",
              "      <td>NaN</td>\n",
              "      <td>279.01</td>\n",
              "      <td>NaN</td>\n",
              "      <td>0.0</td>\n",
              "      <td>12</td>\n",
              "      <td>14047002_277_6</td>\n",
              "    </tr>\n",
              "    <tr>\n",
              "      <th>3</th>\n",
              "      <td>NaN</td>\n",
              "      <td>NaN</td>\n",
              "      <td>NaN</td>\n",
              "      <td>279.66</td>\n",
              "      <td>NaN</td>\n",
              "      <td>0.0</td>\n",
              "      <td>12</td>\n",
              "      <td>14047002_277_7</td>\n",
              "    </tr>\n",
              "    <tr>\n",
              "      <th>4</th>\n",
              "      <td>NaN</td>\n",
              "      <td>NaN</td>\n",
              "      <td>NaN</td>\n",
              "      <td>279.99</td>\n",
              "      <td>NaN</td>\n",
              "      <td>0.0</td>\n",
              "      <td>12</td>\n",
              "      <td>14047002_277_8</td>\n",
              "    </tr>\n",
              "  </tbody>\n",
              "</table>\n",
              "</div>"
            ],
            "text/plain": [
              "   dd  hu  td       t  ff  precip  month              Id\n",
              "0 NaN NaN NaN  278.35 NaN     NaN     12  14047002_277_4\n",
              "1 NaN NaN NaN  278.40 NaN     0.0     12  14047002_277_5\n",
              "2 NaN NaN NaN  279.01 NaN     0.0     12  14047002_277_6\n",
              "3 NaN NaN NaN  279.66 NaN     0.0     12  14047002_277_7\n",
              "4 NaN NaN NaN  279.99 NaN     0.0     12  14047002_277_8"
            ]
          },
          "execution_count": 11,
          "metadata": {},
          "output_type": "execute_result"
        }
      ],
      "source": [
        "test = pd.read_csv(path_test)\n",
        "test.head()"
      ]
    },
    {
      "cell_type": "code",
      "execution_count": 12,
      "metadata": {
        "id": "niFXpN5eZ2lP"
      },
      "outputs": [],
      "source": [
        "test.rename(columns={\"ff\":\"wind_speed\",\"t\":\"temp\",\"hu\":\"humidity\",\"dd\":\"wind_direction\",\"td\":\"dew_point_temp\"}, inplace=True)"
      ]
    },
    {
      "cell_type": "code",
      "execution_count": 13,
      "metadata": {
        "colab": {
          "base_uri": "https://localhost:8080/",
          "height": 206
        },
        "id": "QBJN6dENZ80b",
        "outputId": "04808ff9-104e-4e4b-8b22-7318f3bc5542"
      },
      "outputs": [
        {
          "data": {
            "text/html": [
              "<div>\n",
              "<style scoped>\n",
              "    .dataframe tbody tr th:only-of-type {\n",
              "        vertical-align: middle;\n",
              "    }\n",
              "\n",
              "    .dataframe tbody tr th {\n",
              "        vertical-align: top;\n",
              "    }\n",
              "\n",
              "    .dataframe thead th {\n",
              "        text-align: right;\n",
              "    }\n",
              "</style>\n",
              "<table border=\"1\" class=\"dataframe\">\n",
              "  <thead>\n",
              "    <tr style=\"text-align: right;\">\n",
              "      <th></th>\n",
              "      <th>wind_direction</th>\n",
              "      <th>humidity</th>\n",
              "      <th>dew_point_temp</th>\n",
              "      <th>temp</th>\n",
              "      <th>wind_speed</th>\n",
              "      <th>precip</th>\n",
              "      <th>month</th>\n",
              "      <th>Id</th>\n",
              "    </tr>\n",
              "  </thead>\n",
              "  <tbody>\n",
              "    <tr>\n",
              "      <th>0</th>\n",
              "      <td>NaN</td>\n",
              "      <td>NaN</td>\n",
              "      <td>NaN</td>\n",
              "      <td>278.35</td>\n",
              "      <td>NaN</td>\n",
              "      <td>NaN</td>\n",
              "      <td>12</td>\n",
              "      <td>14047002_277_4</td>\n",
              "    </tr>\n",
              "    <tr>\n",
              "      <th>1</th>\n",
              "      <td>NaN</td>\n",
              "      <td>NaN</td>\n",
              "      <td>NaN</td>\n",
              "      <td>278.40</td>\n",
              "      <td>NaN</td>\n",
              "      <td>0.0</td>\n",
              "      <td>12</td>\n",
              "      <td>14047002_277_5</td>\n",
              "    </tr>\n",
              "    <tr>\n",
              "      <th>2</th>\n",
              "      <td>NaN</td>\n",
              "      <td>NaN</td>\n",
              "      <td>NaN</td>\n",
              "      <td>279.01</td>\n",
              "      <td>NaN</td>\n",
              "      <td>0.0</td>\n",
              "      <td>12</td>\n",
              "      <td>14047002_277_6</td>\n",
              "    </tr>\n",
              "    <tr>\n",
              "      <th>3</th>\n",
              "      <td>NaN</td>\n",
              "      <td>NaN</td>\n",
              "      <td>NaN</td>\n",
              "      <td>279.66</td>\n",
              "      <td>NaN</td>\n",
              "      <td>0.0</td>\n",
              "      <td>12</td>\n",
              "      <td>14047002_277_7</td>\n",
              "    </tr>\n",
              "    <tr>\n",
              "      <th>4</th>\n",
              "      <td>NaN</td>\n",
              "      <td>NaN</td>\n",
              "      <td>NaN</td>\n",
              "      <td>279.99</td>\n",
              "      <td>NaN</td>\n",
              "      <td>0.0</td>\n",
              "      <td>12</td>\n",
              "      <td>14047002_277_8</td>\n",
              "    </tr>\n",
              "  </tbody>\n",
              "</table>\n",
              "</div>"
            ],
            "text/plain": [
              "   wind_direction  humidity  dew_point_temp    temp  wind_speed  precip  \\\n",
              "0             NaN       NaN             NaN  278.35         NaN     NaN   \n",
              "1             NaN       NaN             NaN  278.40         NaN     0.0   \n",
              "2             NaN       NaN             NaN  279.01         NaN     0.0   \n",
              "3             NaN       NaN             NaN  279.66         NaN     0.0   \n",
              "4             NaN       NaN             NaN  279.99         NaN     0.0   \n",
              "\n",
              "   month              Id  \n",
              "0     12  14047002_277_4  \n",
              "1     12  14047002_277_5  \n",
              "2     12  14047002_277_6  \n",
              "3     12  14047002_277_7  \n",
              "4     12  14047002_277_8  "
            ]
          },
          "execution_count": 13,
          "metadata": {},
          "output_type": "execute_result"
        }
      ],
      "source": [
        "test.head()"
      ]
    },
    {
      "cell_type": "code",
      "execution_count": 14,
      "metadata": {
        "id": "47oJKqOEZ96F"
      },
      "outputs": [],
      "source": [
        "def spliting(string, index):\n",
        "    liste = string.split(\"_\")\n",
        "    return liste[index]"
      ]
    },
    {
      "cell_type": "code",
      "execution_count": 15,
      "metadata": {
        "colab": {
          "base_uri": "https://localhost:8080/",
          "height": 206
        },
        "id": "GEgTu5OEaI6k",
        "outputId": "bd94cab7-6241-4a79-9bb6-d34d4f32bc45"
      },
      "outputs": [
        {
          "data": {
            "text/html": [
              "<div>\n",
              "<style scoped>\n",
              "    .dataframe tbody tr th:only-of-type {\n",
              "        vertical-align: middle;\n",
              "    }\n",
              "\n",
              "    .dataframe tbody tr th {\n",
              "        vertical-align: top;\n",
              "    }\n",
              "\n",
              "    .dataframe thead th {\n",
              "        text-align: right;\n",
              "    }\n",
              "</style>\n",
              "<table border=\"1\" class=\"dataframe\">\n",
              "  <thead>\n",
              "    <tr style=\"text-align: right;\">\n",
              "      <th></th>\n",
              "      <th>wind_direction</th>\n",
              "      <th>humidity</th>\n",
              "      <th>dew_point_temp</th>\n",
              "      <th>temp</th>\n",
              "      <th>wind_speed</th>\n",
              "      <th>precip</th>\n",
              "      <th>month</th>\n",
              "      <th>Id</th>\n",
              "      <th>number_sta</th>\n",
              "    </tr>\n",
              "  </thead>\n",
              "  <tbody>\n",
              "    <tr>\n",
              "      <th>0</th>\n",
              "      <td>NaN</td>\n",
              "      <td>NaN</td>\n",
              "      <td>NaN</td>\n",
              "      <td>278.35</td>\n",
              "      <td>NaN</td>\n",
              "      <td>NaN</td>\n",
              "      <td>12</td>\n",
              "      <td>14047002_277_4</td>\n",
              "      <td>14047002</td>\n",
              "    </tr>\n",
              "    <tr>\n",
              "      <th>1</th>\n",
              "      <td>NaN</td>\n",
              "      <td>NaN</td>\n",
              "      <td>NaN</td>\n",
              "      <td>278.40</td>\n",
              "      <td>NaN</td>\n",
              "      <td>0.0</td>\n",
              "      <td>12</td>\n",
              "      <td>14047002_277_5</td>\n",
              "      <td>14047002</td>\n",
              "    </tr>\n",
              "    <tr>\n",
              "      <th>2</th>\n",
              "      <td>NaN</td>\n",
              "      <td>NaN</td>\n",
              "      <td>NaN</td>\n",
              "      <td>279.01</td>\n",
              "      <td>NaN</td>\n",
              "      <td>0.0</td>\n",
              "      <td>12</td>\n",
              "      <td>14047002_277_6</td>\n",
              "      <td>14047002</td>\n",
              "    </tr>\n",
              "    <tr>\n",
              "      <th>3</th>\n",
              "      <td>NaN</td>\n",
              "      <td>NaN</td>\n",
              "      <td>NaN</td>\n",
              "      <td>279.66</td>\n",
              "      <td>NaN</td>\n",
              "      <td>0.0</td>\n",
              "      <td>12</td>\n",
              "      <td>14047002_277_7</td>\n",
              "      <td>14047002</td>\n",
              "    </tr>\n",
              "    <tr>\n",
              "      <th>4</th>\n",
              "      <td>NaN</td>\n",
              "      <td>NaN</td>\n",
              "      <td>NaN</td>\n",
              "      <td>279.99</td>\n",
              "      <td>NaN</td>\n",
              "      <td>0.0</td>\n",
              "      <td>12</td>\n",
              "      <td>14047002_277_8</td>\n",
              "      <td>14047002</td>\n",
              "    </tr>\n",
              "  </tbody>\n",
              "</table>\n",
              "</div>"
            ],
            "text/plain": [
              "   wind_direction  humidity  dew_point_temp    temp  wind_speed  precip  \\\n",
              "0             NaN       NaN             NaN  278.35         NaN     NaN   \n",
              "1             NaN       NaN             NaN  278.40         NaN     0.0   \n",
              "2             NaN       NaN             NaN  279.01         NaN     0.0   \n",
              "3             NaN       NaN             NaN  279.66         NaN     0.0   \n",
              "4             NaN       NaN             NaN  279.99         NaN     0.0   \n",
              "\n",
              "   month              Id number_sta  \n",
              "0     12  14047002_277_4   14047002  \n",
              "1     12  14047002_277_5   14047002  \n",
              "2     12  14047002_277_6   14047002  \n",
              "3     12  14047002_277_7   14047002  \n",
              "4     12  14047002_277_8   14047002  "
            ]
          },
          "execution_count": 15,
          "metadata": {},
          "output_type": "execute_result"
        }
      ],
      "source": [
        "test['number_sta'] = test['Id'].apply(lambda x : spliting(x, 0))\n",
        "test.head()"
      ]
    },
    {
      "cell_type": "code",
      "execution_count": 16,
      "metadata": {
        "colab": {
          "base_uri": "https://localhost:8080/"
        },
        "id": "jOMTTmjoao04",
        "outputId": "ef5e5c5f-a599-4b41-fc1f-2e150d40cfcc"
      },
      "outputs": [
        {
          "data": {
            "text/plain": [
              "wind_direction    float64\n",
              "humidity          float64\n",
              "dew_point_temp    float64\n",
              "temp              float64\n",
              "wind_speed        float64\n",
              "precip            float64\n",
              "month               int64\n",
              "Id                 object\n",
              "number_sta         object\n",
              "dtype: object"
            ]
          },
          "execution_count": 16,
          "metadata": {},
          "output_type": "execute_result"
        }
      ],
      "source": [
        "test.dtypes"
      ]
    },
    {
      "cell_type": "code",
      "execution_count": 17,
      "metadata": {
        "id": "RcX-2Pi4arhG"
      },
      "outputs": [],
      "source": [
        "test.number_sta = test.number_sta.astype(int)"
      ]
    },
    {
      "cell_type": "code",
      "execution_count": 18,
      "metadata": {
        "colab": {
          "base_uri": "https://localhost:8080/",
          "height": 206
        },
        "id": "WtbSldpvaUzZ",
        "outputId": "5391d9bc-ed76-4d81-8ad7-31258697f4ca"
      },
      "outputs": [
        {
          "data": {
            "text/html": [
              "<div>\n",
              "<style scoped>\n",
              "    .dataframe tbody tr th:only-of-type {\n",
              "        vertical-align: middle;\n",
              "    }\n",
              "\n",
              "    .dataframe tbody tr th {\n",
              "        vertical-align: top;\n",
              "    }\n",
              "\n",
              "    .dataframe thead th {\n",
              "        text-align: right;\n",
              "    }\n",
              "</style>\n",
              "<table border=\"1\" class=\"dataframe\">\n",
              "  <thead>\n",
              "    <tr style=\"text-align: right;\">\n",
              "      <th></th>\n",
              "      <th>wind_direction</th>\n",
              "      <th>humidity</th>\n",
              "      <th>dew_point_temp</th>\n",
              "      <th>temp</th>\n",
              "      <th>wind_speed</th>\n",
              "      <th>precip</th>\n",
              "      <th>month</th>\n",
              "      <th>Id</th>\n",
              "      <th>number_sta</th>\n",
              "      <th>lat</th>\n",
              "      <th>lon</th>\n",
              "      <th>height_sta</th>\n",
              "    </tr>\n",
              "  </thead>\n",
              "  <tbody>\n",
              "    <tr>\n",
              "      <th>0</th>\n",
              "      <td>NaN</td>\n",
              "      <td>NaN</td>\n",
              "      <td>NaN</td>\n",
              "      <td>278.35</td>\n",
              "      <td>NaN</td>\n",
              "      <td>NaN</td>\n",
              "      <td>12</td>\n",
              "      <td>14047002_277_4</td>\n",
              "      <td>14047002</td>\n",
              "      <td>49.275</td>\n",
              "      <td>-0.712</td>\n",
              "      <td>60.0</td>\n",
              "    </tr>\n",
              "    <tr>\n",
              "      <th>1</th>\n",
              "      <td>NaN</td>\n",
              "      <td>NaN</td>\n",
              "      <td>NaN</td>\n",
              "      <td>278.40</td>\n",
              "      <td>NaN</td>\n",
              "      <td>0.0</td>\n",
              "      <td>12</td>\n",
              "      <td>14047002_277_5</td>\n",
              "      <td>14047002</td>\n",
              "      <td>49.275</td>\n",
              "      <td>-0.712</td>\n",
              "      <td>60.0</td>\n",
              "    </tr>\n",
              "    <tr>\n",
              "      <th>2</th>\n",
              "      <td>NaN</td>\n",
              "      <td>NaN</td>\n",
              "      <td>NaN</td>\n",
              "      <td>279.01</td>\n",
              "      <td>NaN</td>\n",
              "      <td>0.0</td>\n",
              "      <td>12</td>\n",
              "      <td>14047002_277_6</td>\n",
              "      <td>14047002</td>\n",
              "      <td>49.275</td>\n",
              "      <td>-0.712</td>\n",
              "      <td>60.0</td>\n",
              "    </tr>\n",
              "    <tr>\n",
              "      <th>3</th>\n",
              "      <td>NaN</td>\n",
              "      <td>NaN</td>\n",
              "      <td>NaN</td>\n",
              "      <td>279.66</td>\n",
              "      <td>NaN</td>\n",
              "      <td>0.0</td>\n",
              "      <td>12</td>\n",
              "      <td>14047002_277_7</td>\n",
              "      <td>14047002</td>\n",
              "      <td>49.275</td>\n",
              "      <td>-0.712</td>\n",
              "      <td>60.0</td>\n",
              "    </tr>\n",
              "    <tr>\n",
              "      <th>4</th>\n",
              "      <td>NaN</td>\n",
              "      <td>NaN</td>\n",
              "      <td>NaN</td>\n",
              "      <td>279.99</td>\n",
              "      <td>NaN</td>\n",
              "      <td>0.0</td>\n",
              "      <td>12</td>\n",
              "      <td>14047002_277_8</td>\n",
              "      <td>14047002</td>\n",
              "      <td>49.275</td>\n",
              "      <td>-0.712</td>\n",
              "      <td>60.0</td>\n",
              "    </tr>\n",
              "  </tbody>\n",
              "</table>\n",
              "</div>"
            ],
            "text/plain": [
              "   wind_direction  humidity  dew_point_temp    temp  wind_speed  precip  \\\n",
              "0             NaN       NaN             NaN  278.35         NaN     NaN   \n",
              "1             NaN       NaN             NaN  278.40         NaN     0.0   \n",
              "2             NaN       NaN             NaN  279.01         NaN     0.0   \n",
              "3             NaN       NaN             NaN  279.66         NaN     0.0   \n",
              "4             NaN       NaN             NaN  279.99         NaN     0.0   \n",
              "\n",
              "   month              Id  number_sta     lat    lon  height_sta  \n",
              "0     12  14047002_277_4    14047002  49.275 -0.712        60.0  \n",
              "1     12  14047002_277_5    14047002  49.275 -0.712        60.0  \n",
              "2     12  14047002_277_6    14047002  49.275 -0.712        60.0  \n",
              "3     12  14047002_277_7    14047002  49.275 -0.712        60.0  \n",
              "4     12  14047002_277_8    14047002  49.275 -0.712        60.0  "
            ]
          },
          "execution_count": 18,
          "metadata": {},
          "output_type": "execute_result"
        }
      ],
      "source": [
        "test = test.merge(coords, on=['number_sta'], how='left')\n",
        "test.head()"
      ]
    },
    {
      "cell_type": "code",
      "execution_count": 19,
      "metadata": {
        "id": "whGd-TrMamcb"
      },
      "outputs": [],
      "source": [
        "test.height_sta = test.height_sta.astype('int16')"
      ]
    },
    {
      "cell_type": "code",
      "execution_count": 21,
      "metadata": {
        "id": "OfcSURo2a4FB"
      },
      "outputs": [],
      "source": [
        "test.to_parquet(os.path.join(output_data,\"X_test_stations_prepared.gzip\"), compression='gzip', engine='fastparquet')"
      ]
    },
    {
      "cell_type": "code",
      "execution_count": null,
      "metadata": {
        "id": "UZVwIcqpbZFg"
      },
      "outputs": [],
      "source": [
        "# !cp X_test_stations_prepared.gzip /content/drive/MyDrive/meteo_france/test_stations_data/Data_preparation_results"
      ]
    },
    {
      "cell_type": "code",
      "execution_count": 22,
      "metadata": {},
      "outputs": [],
      "source": [
        "train.to_parquet(os.path.join(output_data,\"X_train_stations_prepared.gzip\"), compression='gzip', engine='fastparquet')"
      ]
    },
    {
      "cell_type": "code",
      "execution_count": null,
      "metadata": {
        "id": "I4F0A6Afbp5D"
      },
      "outputs": [],
      "source": [
        "# !cp X_train_stations_prepared.gzip /content/drive/MyDrive/meteo_france/train_stations_data/Data_preparation_results"
      ]
    }
  ],
  "metadata": {
    "colab": {
      "background_execution": "on",
      "collapsed_sections": [],
      "machine_shape": "hm",
      "name": "1__Preparation_data.ipynb",
      "provenance": []
    },
    "kernelspec": {
      "display_name": "Python 3",
      "name": "python3"
    },
    "language_info": {
      "codemirror_mode": {
        "name": "ipython",
        "version": 3
      },
      "file_extension": ".py",
      "mimetype": "text/x-python",
      "name": "python",
      "nbconvert_exporter": "python",
      "pygments_lexer": "ipython3",
      "version": "3.9.7"
    }
  },
  "nbformat": 4,
  "nbformat_minor": 0
}
